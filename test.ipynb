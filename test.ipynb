{
 "cells": [
  {
   "cell_type": "code",
   "execution_count": 1,
   "metadata": {},
   "outputs": [],
   "source": [
    "from collections import defaultdict\n",
    "import csv\n",
    "from sklearn.feature_extraction.text import CountVectorizer, TfidfVectorizer\n",
    "from sklearn.pipeline import make_pipeline\n",
    "from lime.lime_text import LimeTextExplainer\n",
    "import classify"
   ]
  },
  {
   "cell_type": "code",
   "execution_count": 2,
   "metadata": {},
   "outputs": [
    {
     "name": "stdout",
     "output_type": "stream",
     "text": [
      "['id', 'brand', 'categories', 'dateAdded', 'dateUpdated', 'ean', 'keys', 'manufacturer', 'manufacturerNumber', 'name', 'reviews.date', 'reviews.dateAdded', 'reviews.dateSeen', 'reviews.didPurchase', 'reviews.doRecommend', 'reviews.id', 'reviews.numHelpful', 'reviews.rating', 'reviews.sourceURLs', 'reviews.text', 'reviews.title', 'reviews.userCity', 'reviews.userProvince', 'reviews.username', 'upc']\n",
      "Train data has 49978 positive reviews\n",
      "Train data has 4408 negative reviews\n",
      "Test data has 5609 positive reviews\n",
      "Test data has 434 negative reviews\n",
      "Testing CountVectorizer...\n",
      "  Accuracy on test  is: 0.9303326162502068\n",
      "Testing TfidfVectorizer...\n",
      "  Accuracy on test  is: 0.9356279993380772\n"
     ]
    },
    {
     "data": {
      "text/plain": [
       "0.9356279993380772"
      ]
     },
     "execution_count": 2,
     "metadata": {},
     "output_type": "execute_result"
    }
   ],
   "source": [
    "columns = defaultdict(list)\n",
    "with open('GrammarandProductReviews.csv', encoding=\"utf8\") as csvfile:\n",
    "    readCSV = csv.DictReader(csvfile)\n",
    "    for row in readCSV:\n",
    "        for (k,v) in row.items():\n",
    "            columns[k].append(v)\n",
    "\n",
    "# Preprocess data, get rid of reviews that don't have recommendation\n",
    "features = list(columns.keys())\n",
    "print(features)\n",
    "data = columns[\"reviews.text\"]\n",
    "Y = columns[\"reviews.doRecommend\"]\n",
    "XY = zip(data,Y)\n",
    "X, Y = [], []\n",
    "for x,y in XY:\n",
    "    if y == 'TRUE':\n",
    "        X.append(x)\n",
    "        Y.append(1)\n",
    "    elif y == 'FALSE':\n",
    "        X.append(x)\n",
    "        Y.append(0)\n",
    "\n",
    "# The first 90% are train data, the last 10% are test data\n",
    "n = int(len(X)*.9)\n",
    "XY_train = list(zip(X,Y))[:n]\n",
    "XY_test = list(zip(X,Y))[n:]\n",
    "data_train, y_train = [x for x, y in XY_train], [y for x, y in XY_train]\n",
    "data_test, y_test = [x for x, y in XY_test], [y for x, y in XY_test]\n",
    "print(\"Train data has %d positive reviews\"%y_train.count(1))\n",
    "print(\"Train data has %d negative reviews\"%y_train.count(0))\n",
    "print(\"Test data has %d positive reviews\"%y_test.count(1))\n",
    "print(\"Test data has %d negative reviews\"%y_test.count(0))\n",
    "\n",
    "# Testing\n",
    "print(\"Testing CountVectorizer...\")\n",
    "count_vect = CountVectorizer()\n",
    "count_vect.fit(data)\n",
    "X_train = count_vect.transform(data_train)\n",
    "X_test = count_vect.transform(data_test)\n",
    "cls = classify.train_classifier(X_train, y_train)\n",
    "classify.evaluate(X_test, y_test, cls, 'test')\n",
    "\n",
    "print(\"Testing TfidfVectorizer...\")\n",
    "tfidf_vect = TfidfVectorizer()\n",
    "tfidf_vect.fit(data)\n",
    "X_train = tfidf_vect.transform(data_train)\n",
    "X_test = tfidf_vect.transform(data_test)\n",
    "cls = classify.train_classifier(X_train, y_train)\n",
    "classify.evaluate(X_test, y_test, cls, 'test')"
   ]
  },
  {
   "cell_type": "code",
   "execution_count": 3,
   "metadata": {},
   "outputs": [],
   "source": [
    "class_names = ['not recommend', 'recommend']\n",
    "explainer = LimeTextExplainer(class_names=class_names)"
   ]
  },
  {
   "cell_type": "code",
   "execution_count": 4,
   "metadata": {},
   "outputs": [],
   "source": [
    "c = make_pipeline(tfidf_vect, cls)"
   ]
  },
  {
   "cell_type": "code",
   "execution_count": 5,
   "metadata": {},
   "outputs": [
    {
     "name": "stderr",
     "output_type": "stream",
     "text": [
      "/usr/lib/python3.6/re.py:212: FutureWarning: split() requires a non-empty pattern match.\n",
      "  return _compile(pattern, flags).split(string, maxsplit)\n"
     ]
    }
   ],
   "source": [
    "exp = explainer.explain_instance(data_test[100], c.predict_proba, num_features=6)"
   ]
  },
  {
   "cell_type": "code",
   "execution_count": 6,
   "metadata": {},
   "outputs": [],
   "source": [
    "exp.save_to_file('./display.html')"
   ]
  },
  {
   "cell_type": "code",
   "execution_count": 7,
   "metadata": {},
   "outputs": [
    {
     "data": {
      "text/plain": [
       "[('great', 0.015600010198675997),\n",
       " ('Great', 0.010140459339180534),\n",
       " ('movie', 0.001295328940215712)]"
      ]
     },
     "execution_count": 7,
     "metadata": {},
     "output_type": "execute_result"
    }
   ],
   "source": [
    "exp.as_list()"
   ]
  },
  {
   "cell_type": "code",
   "execution_count": 8,
   "metadata": {},
   "outputs": [],
   "source": [
    "fig = exp.as_pyplot_figure()"
   ]
  },
  {
   "cell_type": "code",
   "execution_count": 9,
   "metadata": {},
   "outputs": [
    {
     "data": {
      "image/png": "[encoded data removed]",
      "text/plain": [
       "<Figure size 640x480 with 1 Axes>"
      ]
     },
     "execution_count": 9,
     "metadata": {},
     "output_type": "execute_result"
    }
   ],
   "source": [
    "fig"
   ]
  },
  {
   "cell_type": "code",
   "execution_count": 10,
   "metadata": {},
   "outputs": [
    {
     "data": {
      "text/plain": [
       "0.553374165165708"
      ]
     },
     "execution_count": 10,
     "metadata": {},
     "output_type": "execute_result"
    }
   ],
   "source": [
    "exp.score"
   ]
  },
  {
   "cell_type": "code",
   "execution_count": 12,
   "metadata": {},
   "outputs": [
    {
     "data": {
      "text/plain": [
       "array([4.89504678e-04, 9.99510495e-01])"
      ]
     },
     "execution_count": 12,
     "metadata": {},
     "output_type": "execute_result"
    }
   ],
   "source": [
    "exp.predict_proba"
   ]
  },
  {
   "cell_type": "code",
   "execution_count": null,
   "metadata": {},
   "outputs": [],
   "source": []
  }
 ],
 "metadata": {
  "kernelspec": {
   "display_name": "Python 3",
   "language": "python",
   "name": "python3"
  },
  "language_info": {
   "codemirror_mode": {
    "name": "ipython",
    "version": 3
   },
   "file_extension": ".py",
   "mimetype": "text/x-python",
   "name": "python",
   "nbconvert_exporter": "python",
   "pygments_lexer": "ipython3",
   "version": "3.6.7"
  }
 },
 "nbformat": 4,
 "nbformat_minor": 2
}
